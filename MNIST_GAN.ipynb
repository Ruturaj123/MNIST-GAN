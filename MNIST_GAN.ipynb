{
  "nbformat": 4,
  "nbformat_minor": 0,
  "metadata": {
    "colab": {
      "name": "MNIST GAN",
      "version": "0.3.2",
      "provenance": [],
      "collapsed_sections": [],
      "include_colab_link": true
    },
    "kernelspec": {
      "name": "python3",
      "display_name": "Python 3"
    },
    "accelerator": "GPU"
  },
  "cells": [
    {
      "cell_type": "markdown",
      "metadata": {
        "id": "view-in-github",
        "colab_type": "text"
      },
      "source": [
        "<a href=\"https://colab.research.google.com/github/Ruturaj123/MNIST-GAN/blob/master/MNIST_GAN.ipynb\" target=\"_parent\"><img src=\"https://colab.research.google.com/assets/colab-badge.svg\" alt=\"Open In Colab\"/></a>"
      ]
    },
    {
      "metadata": {
        "id": "iEr1yWepfkPc",
        "colab_type": "code",
        "colab": {}
      },
      "cell_type": "code",
      "source": [
        "%load_ext autoreload\n",
        "%matplotlib inline"
      ],
      "execution_count": 0,
      "outputs": []
    },
    {
      "metadata": {
        "id": "w_Q90E9Fqm7S",
        "colab_type": "text"
      },
      "cell_type": "markdown",
      "source": [
        "## Import the dependencies"
      ]
    },
    {
      "metadata": {
        "id": "cnt9TgXefkPk",
        "colab_type": "code",
        "colab": {}
      },
      "cell_type": "code",
      "source": [
        "%autoreload 2\n",
        "\n",
        "import torch\n",
        "from torch import nn, optim\n",
        "from torch.autograd.variable import Variable\n",
        "from torchvision import transforms, datasets\n",
        "from utils import Logger\n",
        "from IPython import display"
      ],
      "execution_count": 0,
      "outputs": []
    },
    {
      "metadata": {
        "id": "eAAF28AFfkPs",
        "colab_type": "text"
      },
      "cell_type": "markdown",
      "source": [
        "## Load Data"
      ]
    },
    {
      "metadata": {
        "id": "zlYPUjP6fkPt",
        "colab_type": "code",
        "colab": {}
      },
      "cell_type": "code",
      "source": [
        "def get_mnist():\n",
        "    compose = transforms.Compose([\n",
        "        transforms.ToTensor(),\n",
        "        transforms.Normalize((.5, .5, .5), (.5, .5, .5))\n",
        "    ])\n",
        "    out_dir = './dataset'\n",
        "    return datasets.MNIST(root=out_dir, train=True, transform=compose, download=False)\n",
        "\n",
        "data = get_mnist()\n",
        "data_loader = torch.utils.data.DataLoader(data, batch_size=100, shuffle=True)\n",
        "batches = len(data_loader)"
      ],
      "execution_count": 0,
      "outputs": []
    },
    {
      "metadata": {
        "id": "umlj2WbOfkPz",
        "colab_type": "text"
      },
      "cell_type": "markdown",
      "source": [
        "## Discriminator"
      ]
    },
    {
      "metadata": {
        "id": "GnRAlY81fkP0",
        "colab_type": "code",
        "colab": {}
      },
      "cell_type": "code",
      "source": [
        "class Discriminator(torch.nn.Module):\n",
        "    def __init__(self):\n",
        "        super(Discriminator, self).__init__()\n",
        "        n_features = 784\n",
        "        n_out = 1\n",
        "        \n",
        "        self.h_0 = nn.Sequential(\n",
        "            nn.Linear(n_features, 1024),\n",
        "            nn.LeakyReLU(0.2),\n",
        "            nn.Dropout(0.3)\n",
        "        )\n",
        "        \n",
        "        self.h_1 = nn.Sequential(\n",
        "            nn.Linear(1024, 512),\n",
        "            nn.LeakyReLU(0.2),\n",
        "            nn.Dropout(0.3)\n",
        "        )\n",
        "        \n",
        "        self.h_2 = nn.Sequential(\n",
        "            nn.Linear(512, 256),\n",
        "            nn.LeakyReLU(0.2),\n",
        "            nn.Dropout(0.3)\n",
        "        )\n",
        "        \n",
        "        self.out = nn.Sequential(\n",
        "            nn.Linear(256, n_out),\n",
        "            nn.Sigmoid()\n",
        "        )\n",
        "        \n",
        "    def forward(self, x):\n",
        "        x = self.h_0(x)\n",
        "        x = self.h_1(x)\n",
        "        x = self.h_2(x)\n",
        "        x = self.out(x)\n",
        "        return x"
      ],
      "execution_count": 0,
      "outputs": []
    },
    {
      "metadata": {
        "id": "Vrdz7eAvrZBx",
        "colab_type": "text"
      },
      "cell_type": "markdown",
      "source": [
        "## Helper functions"
      ]
    },
    {
      "metadata": {
        "id": "Ixze6sURpOhL",
        "colab_type": "code",
        "colab": {}
      },
      "cell_type": "code",
      "source": [
        "def image2vec(images):\n",
        "    return images.view(images.size(0), 784)\n",
        "\n",
        "def vec2image(vectors):\n",
        "    return vectors.view(vectors.size(0), 1, 28, 28)"
      ],
      "execution_count": 0,
      "outputs": []
    },
    {
      "metadata": {
        "id": "p7HwJobcrm9l",
        "colab_type": "text"
      },
      "cell_type": "markdown",
      "source": [
        "## Generator"
      ]
    },
    {
      "metadata": {
        "id": "x1yh5qVKfkP5",
        "colab_type": "code",
        "colab": {}
      },
      "cell_type": "code",
      "source": [
        "class Generator(nn.Module):\n",
        "    def __init__(self):\n",
        "        super(Generator, self).__init__()\n",
        "        n_features = 100\n",
        "        n_out = 784\n",
        "        \n",
        "        self.h_0 = nn.Sequential(\n",
        "            nn.Linear(n_features, 256),\n",
        "            nn.LeakyReLU(0.2)\n",
        "        )\n",
        "        \n",
        "        self.h_1 = nn.Sequential(\n",
        "            nn.Linear(256, 512),\n",
        "            nn.LeakyReLU(0.2)\n",
        "        )\n",
        "        \n",
        "        self.h_2 = nn.Sequential(\n",
        "            nn.Linear(512, 1024),\n",
        "            nn.LeakyReLU(0.2)\n",
        "        )\n",
        "        \n",
        "        self.out = nn.Sequential(\n",
        "            nn.Linear(1024, n_out),\n",
        "            nn.Tanh()\n",
        "        )\n",
        "        \n",
        "    def forward(self, x):\n",
        "        x = self.h_0(x)\n",
        "        x = self.h_1(x)        \n",
        "        x = self.h_2(x)        \n",
        "        x = self.out(x)\n",
        "        \n",
        "        return x"
      ],
      "execution_count": 0,
      "outputs": []
    },
    {
      "metadata": {
        "scrolled": false,
        "id": "2qL_eOlyfkP8",
        "colab_type": "code",
        "colab": {}
      },
      "cell_type": "code",
      "source": [
        "discriminator = Discriminator()\n",
        "generator = Generator()\n",
        "if torch.cuda.is_available():\n",
        "    discriminator.cuda()\n",
        "    generator.cuda()"
      ],
      "execution_count": 0,
      "outputs": []
    },
    {
      "metadata": {
        "id": "uW-1ls-4sYNo",
        "colab_type": "text"
      },
      "cell_type": "markdown",
      "source": [
        "## Noise"
      ]
    },
    {
      "metadata": {
        "id": "1trlzu2GptZU",
        "colab_type": "code",
        "colab": {}
      },
      "cell_type": "code",
      "source": [
        "def noise(size):\n",
        "    n = Variable(torch.randn(size, 100))\n",
        "    if torch.cuda.is_available(): return n.cuda() \n",
        "    return n"
      ],
      "execution_count": 0,
      "outputs": []
    },
    {
      "metadata": {
        "id": "ZyoqwnZHfkP_",
        "colab_type": "text"
      },
      "cell_type": "markdown",
      "source": [
        "## Optimizer and Loss"
      ]
    },
    {
      "metadata": {
        "id": "NEEgK-TqfkQA",
        "colab_type": "code",
        "colab": {}
      },
      "cell_type": "code",
      "source": [
        "d_optim = optim.Adam(discriminator.parameters(), lr = 0.0002)\n",
        "g_optim = optim.Adam(generator.parameters(), lr = 0.0002)\n",
        "\n",
        "loss = nn.BCELoss()"
      ],
      "execution_count": 0,
      "outputs": []
    },
    {
      "metadata": {
        "id": "nUveUamvfkQD",
        "colab_type": "code",
        "colab": {}
      },
      "cell_type": "code",
      "source": [
        "def ones_target(size):\n",
        "    data = Variable(torch.ones(size, 1))\n",
        "    if torch.cuda.is_available(): return data.cuda()\n",
        "    return data\n",
        "\n",
        "def zeros_target(size):\n",
        "    data = Variable(torch.zeros(size, 1))\n",
        "    if torch.cuda.is_available(): return data.cuda()\n",
        "    return data"
      ],
      "execution_count": 0,
      "outputs": []
    },
    {
      "metadata": {
        "id": "P4ULeiOes8yE",
        "colab_type": "text"
      },
      "cell_type": "markdown",
      "source": [
        "## Train Discriminator"
      ]
    },
    {
      "metadata": {
        "id": "OPGgzHyTfkQG",
        "colab_type": "code",
        "colab": {}
      },
      "cell_type": "code",
      "source": [
        "def train_D(optimizer, real, fake):\n",
        "    n = real.size(0)\n",
        "    optimizer.zero_grad()\n",
        "    \n",
        "    #Train on real data\n",
        "    prediction_r = discriminator(real)\n",
        "    err_r = loss(prediction_r, ones_target(n))\n",
        "    err_r.backward()\n",
        "    \n",
        "    #Train on fake data\n",
        "    prediction_f = discriminator(fake)\n",
        "    err_f = loss(prediction_f, zeros_target(n))\n",
        "    err_f.backward()\n",
        "    \n",
        "    #Update the weights\n",
        "    optimizer.step()\n",
        "    \n",
        "    error = err_r + err_f\n",
        "    \n",
        "    return error, prediction_r, prediction_f"
      ],
      "execution_count": 0,
      "outputs": []
    },
    {
      "metadata": {
        "id": "-EoU74XkuDkK",
        "colab_type": "text"
      },
      "cell_type": "markdown",
      "source": [
        "## Train Generator"
      ]
    },
    {
      "metadata": {
        "id": "d8RA3-qkqVzH",
        "colab_type": "code",
        "colab": {}
      },
      "cell_type": "code",
      "source": [
        "def train_G(optimizer, fake):\n",
        "    optimizer.zero_grad()\n",
        "    \n",
        "    #Generate fake data\n",
        "    prediction = discriminator(fake)\n",
        "    \n",
        "    #Calculate loss and backpropagate\n",
        "    error = loss(prediction, ones_target(prediction.size(0)))\n",
        "    error.backward()\n",
        "    #Update the weights\n",
        "    optimizer.step()\n",
        "    \n",
        "    return error"
      ],
      "execution_count": 0,
      "outputs": []
    },
    {
      "metadata": {
        "id": "RLV6laCvfkQO",
        "colab_type": "text"
      },
      "cell_type": "markdown",
      "source": [
        "### Generate Samples for Testing"
      ]
    },
    {
      "metadata": {
        "id": "y9EkdL71fkQQ",
        "colab_type": "code",
        "colab": {}
      },
      "cell_type": "code",
      "source": [
        "n_samples = 16\n",
        "test_noise = noise(n_samples)"
      ],
      "execution_count": 0,
      "outputs": []
    },
    {
      "metadata": {
        "id": "YuK-9TA-fkQZ",
        "colab_type": "text"
      },
      "cell_type": "markdown",
      "source": [
        "### Start training"
      ]
    },
    {
      "metadata": {
        "scrolled": false,
        "id": "gAPyekJzfkQZ",
        "colab_type": "code",
        "colab": {
          "base_uri": "https://localhost:8080/",
          "height": 299
        },
        "outputId": "ec73eafc-0909-4e35-89c2-b6dc46ea9aa1"
      },
      "cell_type": "code",
      "source": [
        "logger = Logger(model_name='MNIST GAN', data_name='MNIST')\n",
        "\n",
        "for epoch in range(n_epochs):\n",
        "    for n_batch, (real_batch,_) in enumerate(data_loader):\n",
        "\n",
        "        #Training Discriminator\n",
        "        real_data = Variable(image2vec(real_batch))\n",
        "        if torch.cuda.is_available(): real_data = real_data.cuda()\n",
        "        fake_data = generator(noise(real_data.size(0))).detach()\n",
        "        d_error, d_pred_real, d_pred_fake = train_D(d_optim,real_data, fake_data)\n",
        "\n",
        "        #Training Generator\n",
        "        fake_data = generator(noise(real_batch.size(0)))\n",
        "        g_error = train_G(g_optim, fake_data)\n",
        "        \n",
        "        logger.log(d_error, g_error, epoch, n_batch, batches)\n",
        "\n",
        "        #Log Progress\n",
        "        if (n_batch) % 100 == 0:\n",
        "            display.clear_output(True)\n",
        "            \n",
        "            test_images = vec2image(generator(test_noise)).data.cpu()\n",
        "            logger.log_images(test_images, n_samples, epoch, n_batch, batches)"
      ],
      "execution_count": 0,
      "outputs": [
        {
          "output_type": "display_data",
          "data": {
            "image/png": "[encoded data removed]",
            "text/plain": [
              "<matplotlib.figure.Figure at 0x7f4405802c88>"
            ]
          },
          "metadata": {
            "tags": []
          }
        }
      ]
    },
    {
      "metadata": {
        "id": "kH1rnHgfgicH",
        "colab_type": "code",
        "colab": {}
      },
      "cell_type": "code",
      "source": [
        ""
      ],
      "execution_count": 0,
      "outputs": []
    }
  ]
}